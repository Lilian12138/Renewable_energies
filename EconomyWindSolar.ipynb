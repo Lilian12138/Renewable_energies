{
 "cells": [
  {
   "cell_type": "code",
   "execution_count": null,
   "metadata": {},
   "outputs": [],
   "source": [
    "import pandas as pd\n",
    "import geopandas as gpd\n",
    "import glob\n",
    "import os\n",
    "import matplotlib.pyplot as plt"
   ]
  },
  {
   "cell_type": "code",
   "execution_count": null,
   "metadata": {},
   "outputs": [],
   "source": [
    "# hours\n",
    "path = r\"C:\\Users\\ruome\\Desktop\\New folder\\Renewable\\ProcessingFiles\\table\\电网排放因子和成本-碳价参数0110V3.xlsx\"\n",
    "df_hours=pd.read_excel(path, sheet_name=\"2022年分省风光小时数\")\n",
    "df_hours = df_hours.iloc[4:,-4:]\n",
    "df_hours.columns = ['Shengcode', '省份', '风', '光']\n",
    "df_hours.fillna(0, inplace=True)\n",
    "df_hours = df_hours.astype({'Shengcode':int, '风': float, '光': float})\n",
    "\n",
    "df_parameter_summary = pd.read_excel(path, sheet_name='成本参数及碳价参数')\n",
    "col = pd.read_excel(path, sheet_name=\"Columns\")\n",
    "df_parameter_summary.columns = col.iloc[:,1].to_list()\n",
    "df_parameter_summary = df_parameter_summary.iloc[2:]\n",
    "\n",
    "df_shengcode = pd.read_excel(path, sheet_name=\"Shengcode\")"
   ]
  },
  {
   "cell_type": "markdown",
   "metadata": {},
   "source": [
    "算装机容量总成本：Cost\n",
    "1. 政策情景网格成本=网格装机容量 * 所在省份的单位装机成本（单位瓦价格）；\n",
    "2. 高速情景网格成本=网格装机容量 * 所在省份的单位装机成本（单位瓦价格）；\n",
    "\n",
    "如果省份没有单位装机成本值，用所在区域平均值计算。\n",
    "\n",
    "\n",
    "计算减排量：Emission\n",
    "1. 政策情景网格减排量=网格装机容量 * 所在省份的发电小时数 * 电网排放因子；\n",
    "2. 高速情景网格减排量=网格装机容量 * 所在省份的发电小时数 * 电网排放因子；\n",
    "\n",
    "如果省份没有电网排放因子，用sheet“电网排放因子”中的数据，这个省份是最全的。其中“低值”代表的是“高速情景”；“高值”代表的是“政策情景”。\n",
    "\n",
    "\n",
    "计算利润：Profile\n",
    "1. 政策情景网格利润=网格减排量*碳价-网格成本；\n",
    "2. 高速情景网格利润=网格减排量*碳价-网格成本。"
   ]
  },
  {
   "cell_type": "code",
   "execution_count": null,
   "metadata": {},
   "outputs": [],
   "source": [
    "def find_str(search_list, olist):\n",
    "    result = [col for col in olist if all(term in col for term in search_list)]\n",
    "    return result[0]\n",
    "def cal2(df, df_hours, shp_path, sel_str, scenario):\n",
    "    # Filter data\n",
    "    df_value_sel = df.loc[df['风/光'].str.contains(sel_str, case=False, na=False)].copy()\n",
    "    # Convert columns to numeric\n",
    "    cols = df_value_sel.columns[12:]\n",
    "    df_value_sel[cols] = df_value_sel[cols].apply(pd.to_numeric, errors='coerce')\n",
    "    # Calculate mean values by province\n",
    "    df_value_sel_mean = df_value_sel.groupby('Shengcode')[cols].mean().reset_index()\n",
    "    df_value_sel_mean_daqu = df_value_sel.groupby('大区')[cols].mean()\n",
    "    df_value_sel_mean = df_value_sel_mean.merge(df_shengcode.loc[:,['Shengcode','大区']], how = 'right', on = 'Shengcode')\n",
    "\n",
    "    # Fill missing values by region\n",
    "    for col in cols:\n",
    "        for region in df_value_sel_mean_daqu.index:\n",
    "            mean_value = df_value_sel_mean_daqu.loc[region, col]\n",
    "            df_value_sel_mean.loc[df_value_sel_mean['大区'] == region, col] = df_value_sel_mean.loc[df_value_sel_mean['大区'] == region, col].fillna(mean_value)\n",
    "    \n",
    "    # Load shapefile data\n",
    "    shp_df = gpd.read_file(shp_path)\n",
    "    shp_crs = shp_df.crs\n",
    "    shp_df['Shengcode'] = shp_df['Shengcode'].astype('int')\n",
    "    shp_df = shp_df.merge(df_value_sel_mean, how='left', on='Shengcode')\n",
    "    shp_df = shp_df.merge(df_hours.loc[:,['Shengcode',sel_str]], how = 'left', on = 'Shengcode')\n",
    "    \n",
    "    # Calculate cost, emission, and profit for 2022\n",
    "    olist = df.columns\n",
    "    shp_df['C2022'] = shp_df['KW2022'] * shp_df[find_str(['2022','单位瓦价格'], olist)] * 1000\n",
    "    shp_df['E2022'] = shp_df['KW2022'] * shp_df[find_str(['2022','电力排放因子'],olist)] * shp_df[sel_str]\n",
    "    shp_df['P2022'] = (shp_df['E2022']/1000) * shp_df[find_str(['2022','碳价'], olist)] - shp_df['C2022']\n",
    "\n",
    "    # Calculate cost, emission, and profit for future years\n",
    "    future_years = ['2025', '2030', '2035', '2040', '2050', '2060']\n",
    "    for year in future_years:\n",
    "        shp_df[f'C{year}'] = shp_df[f'KW{year}'] * shp_df[find_str([scenario, year,'单位瓦价格'],olist)] * 1000 \n",
    "        shp_df[f'E{year}'] = shp_df[f'KW{year}'] * shp_df[sel_str] * shp_df[find_str([scenario, year,'电网因子'],olist)]\n",
    "        shp_df[f'P{year}'] = (shp_df[f'E{year}']/1000) * shp_df[find_str([scenario, year,'碳价'],olist)] - shp_df[f'C{year}']\n",
    "    \n",
    "    return shp_df.loc[:,['NID10', 'Shengcode', 'NID50', 'NID10a', 'KW2',\n",
    "                         'KW2022', 'KW2025', 'KW2030', 'KW2035', 'KW2040', 'KW2050','KW2060', \n",
    "                         'C2022','C2025','C2030','C2035','C2040','C2050','C2060',\n",
    "                         'E2022','E2025','E2030','E2035','E2040','E2050','E2060',\n",
    "                         'P2022','P2025','P2030','P2035','P2040','P2050','P2060',\n",
    "                         'geometry']].set_crs(shp_crs)\n",
    "\n",
    "\n",
    "def cal3(df, sel_str):\n",
    "    # Filter data\n",
    "    df_value_sel = df.loc[df['风/光'].str.contains(sel_str, case=False, na=False)].copy()\n",
    "    # Convert columns to numeric\n",
    "    cols = df_value_sel.columns[12:]\n",
    "    df_value_sel[cols] = df_value_sel[cols].apply(pd.to_numeric, errors='coerce')\n",
    "    # Calculate mean values by province\n",
    "    df_value_sel_mean = df_value_sel.groupby('Shengcode')[cols].mean().reset_index()\n",
    "    df_value_sel_mean_daqu = df_value_sel.groupby('大区')[cols].mean()\n",
    "    df_value_sel_mean = df_value_sel_mean.merge(df_shengcode.loc[:,['Shengcode','大区']], how = 'right', on = 'Shengcode')\n",
    "\n",
    "    # Fill missing values by region\n",
    "    for col in cols:\n",
    "        for region in df_value_sel_mean_daqu.index:\n",
    "            mean_value = df_value_sel_mean_daqu.loc[region, col]\n",
    "            df_value_sel_mean.loc[df_value_sel_mean['大区'] == region, col] = df_value_sel_mean.loc[df_value_sel_mean['大区'] == region, col].fillna(mean_value)\n",
    "    return df_value_sel_mean"
   ]
  },
  {
   "cell_type": "code",
   "execution_count": null,
   "metadata": {},
   "outputs": [],
   "source": [
    "sel_str = \"风\"\n",
    "df = cal3(df_parameter_summary, sel_str)\n",
    "df = df.to_excel(r\"C:\\Users\\ruome\\Desktop\\Renewable\\ProcessingFiles\\table\\feng.xlsx\")"
   ]
  },
  {
   "cell_type": "code",
   "execution_count": null,
   "metadata": {},
   "outputs": [],
   "source": [
    "sel_str = \"光\"\n",
    "df = cal3(df_parameter_summary, sel_str)\n",
    "df = df.to_excel(r\"C:\\Users\\ruome\\Desktop\\Renewable\\ProcessingFiles\\table\\guang.xlsx\")"
   ]
  },
  {
   "cell_type": "code",
   "execution_count": null,
   "metadata": {},
   "outputs": [],
   "source": [
    "shp_path = r\"C:\\Users\\ruome\\Desktop\\New folder\\Renewable\\论文编辑\\数据输出\\结果二\\wind_high_20240320.shp\"\n",
    "sel_str = \"风\"\n",
    "scenario = \"高速\"\n",
    "shp_df = cal2(df_parameter_summary, df_hours, shp_path, sel_str, scenario)\n",
    "shp_df.to_file(r\"C:\\Users\\ruome\\Desktop\\New folder\\Renewable\\论文编辑\\数据输出\\结果三-全生命周期折减\\wind_high_results_20250110gj.shp\")"
   ]
  },
  {
   "cell_type": "code",
   "execution_count": null,
   "metadata": {},
   "outputs": [],
   "source": [
    "shp_path = r\"C:\\Users\\ruome\\Desktop\\New folder\\Renewable\\论文编辑\\数据输出\\结果二\\wind_median_20240320.shp\"\n",
    "sel_str = \"风\"\n",
    "scenario = \"政策\"\n",
    "shp_df = cal2(df_parameter_summary, df_hours, shp_path, sel_str, scenario)\n",
    "shp_df.to_file(r\"C:\\Users\\ruome\\Desktop\\New folder\\Renewable\\论文编辑\\数据输出\\结果三-全生命周期折减\\wind_median_results_20250110gj.shp\")"
   ]
  },
  {
   "cell_type": "code",
   "execution_count": null,
   "metadata": {},
   "outputs": [],
   "source": [
    "shp_path = r\"C:\\Users\\ruome\\Desktop\\New folder\\Renewable\\论文编辑\\数据输出\\结果二\\Solar_median_20240226.shp\"\n",
    "sel_str = \"光\"\n",
    "scenario = \"政策\"\n",
    "shp_df = cal2(df_parameter_summary, df_hours, shp_path, sel_str, scenario)\n",
    "shp_df.to_file(r\"C:\\Users\\ruome\\Desktop\\New folder\\Renewable\\论文编辑\\数据输出\\结果三-全生命周期折减\\Solar_median_results_20250110gj.shp\")"
   ]
  },
  {
   "cell_type": "code",
   "execution_count": null,
   "metadata": {},
   "outputs": [],
   "source": [
    "shp_path = r\"C:\\Users\\ruome\\Desktop\\New folder\\Renewable\\论文编辑\\数据输出\\结果二\\Solar_high_20240226.shp\"\n",
    "sel_str = \"光\"\n",
    "scenario = \"高速\"\n",
    "shp_df = cal2(df_parameter_summary, df_hours, shp_path, sel_str, scenario)\n",
    "shp_df.to_file(r\"C:\\Users\\ruome\\Desktop\\New folder\\Renewable\\论文编辑\\数据输出\\结果三-全生命周期折减\\Solar_high_results_20250110gj.shp\")"
   ]
  },
  {
   "cell_type": "markdown",
   "metadata": {},
   "source": [
    "占比能达到多大的量级 \n",
    "\n",
    "占比 ： 风光装机总量，和政策下风光的装机，和高情景下风光的装机对比\n",
    "\n",
    "预想条件20% - 40%\n",
    "\n",
    "小于0的选大，大于0的加和；现状装机量保留"
   ]
  },
  {
   "cell_type": "code",
   "execution_count": null,
   "metadata": {},
   "outputs": [],
   "source": [
    "# Summary table\n",
    "import glob\n",
    "import geopandas as gpd\n",
    "import pandas as pd\n",
    "path_lst = glob.glob(r\"C:\\Users\\ruome\\Desktop\\New folder\\Renewable\\论文编辑\\数据输出\\结果三-全生命周期折减\\*.shp\")\n",
    "name_lst = []\n",
    "df_lst = []\n",
    "for path in path_lst:\n",
    "    name = path.split(\"\\\\\")[-1].split(\".\")[0]\n",
    "    name_lst.append(name)\n",
    "    df = gpd.read_file(path)\n",
    "    df_province = df.groupby(\"Shengcode\")[['C2022', 'C2025','C2030', 'C2035', 'C2040', 'C2050', 'C2060', \n",
    "        'E2022', 'E2025', 'E2030', 'E2035', 'E2040', 'E2050', 'E2060', \n",
    "        'P2022', 'P2025', 'P2030', 'P2035', 'P2040', 'P2050', 'P2060']].sum()\n",
    "    df_province.reset_index(inplace=True)\n",
    "    df_lst.append(df_province)\n",
    "# Create an Excel writer object\n",
    "with pd.ExcelWriter(r'C:\\Users\\ruome\\Desktop\\New folder\\Renewable\\ProcessingFiles\\table\\province_results_20250625.xlsx') as writer:\n",
    "    # Write each DataFrame to a different sheet\n",
    "    for i in range(len(name_lst)):\n",
    "        sheet_name = f'{name_lst[i]}'\n",
    "        df = df_lst[i]\n",
    "        df.to_excel(writer, sheet_name=sheet_name, index=False)"
   ]
  },
  {
   "cell_type": "code",
   "execution_count": null,
   "metadata": {},
   "outputs": [],
   "source": [
    "# summary one table \n",
    "path = r\"C:\\Users\\ruome\\Desktop\\New folder\\Renewable\\论文编辑\\数据输出\\结果三-全生命周期折减\\Solar_median_results_20250110gj.shp\"\n",
    "name = path.split(\"\\\\\")[-1].split(\".\")[0]\n",
    "shp_df = gpd.read_file(path)\n",
    "# 需要统计的列\n",
    "cols_to_count = ['KW2022', 'KW2025', 'KW2030', 'KW2035', 'KW2040', 'KW2050', 'KW2060']\n",
    "\n",
    "# 计算各列 > 0 的数量\n",
    "count_df = shp_df.groupby('Shengcode')[cols_to_count].apply(lambda x: (x > 0).sum()).reset_index()\n",
    "count_df.columns = ['Shengcode'] + [f'{col}_count' for col in cols_to_count]\n",
    "\n",
    "# 计算各列的总和\n",
    "cols_to_sum = ['KW2022','KW2025', 'KW2030', 'KW2035', 'KW2040', 'KW2050', 'KW2060', \n",
    "       'C2022', 'C2025','C2030', 'C2035', 'C2040', 'C2050', 'C2060', \n",
    "       'E2022', 'E2025', 'E2030', 'E2035', 'E2040', 'E2050', 'E2060', \n",
    "       'P2022', 'P2025', 'P2030', 'P2035', 'P2040', 'P2050', 'P2060']\n",
    "sum_df = shp_df.groupby('Shengcode')[cols_to_sum].sum().reset_index()\n",
    "sum_df.columns = ['Shengcode'] + [f'{col}_sum' for col in cols_to_sum]\n",
    "\n",
    "# 合并两个结果\n",
    "summary_df = pd.merge(count_df, sum_df, on='Shengcode')\n",
    "summary_df = pd.merge(df_shengcode, summary_df, on='Shengcode')\n",
    "\n",
    "summary_df.to_excel(r\"C:\\Users\\ruome\\Desktop\\New folder\\Renewable\\ProcessingFiles\\table\\敏感性统计表格\\province_solar_median_kw2.xlsx\")"
   ]
  },
  {
   "cell_type": "code",
   "execution_count": null,
   "metadata": {},
   "outputs": [],
   "source": [
    "# summary one table \n",
    "path = r\"C:\\Users\\ruome\\Desktop\\New folder\\Renewable\\论文编辑\\数据输出\\结果三-全生命周期折减\\Solar_high_results_20250110gj.shp\"\n",
    "name = path.split(\"\\\\\")[-1].split(\".\")[0]\n",
    "shp_df = gpd.read_file(path)\n",
    "# 需要统计的列\n",
    "cols_to_count = ['KW2022', 'KW2025', 'KW2030', 'KW2035', 'KW2040', 'KW2050', 'KW2060']\n",
    "\n",
    "# 计算各列 > 0 的数量\n",
    "count_df = shp_df.groupby('Shengcode')[cols_to_count].apply(lambda x: (x > 0).sum()).reset_index()\n",
    "count_df.columns = ['Shengcode'] + [f'{col}_count' for col in cols_to_count]\n",
    "\n",
    "# 计算各列的总和\n",
    "cols_to_sum = ['KW2022','KW2025', 'KW2030', 'KW2035', 'KW2040', 'KW2050', 'KW2060', \n",
    "       'C2022', 'C2025','C2030', 'C2035', 'C2040', 'C2050', 'C2060', \n",
    "       'E2022', 'E2025', 'E2030', 'E2035', 'E2040', 'E2050', 'E2060', \n",
    "       'P2022', 'P2025', 'P2030', 'P2035', 'P2040', 'P2050', 'P2060']\n",
    "sum_df = shp_df.groupby('Shengcode')[cols_to_sum].sum().reset_index()\n",
    "sum_df.columns = ['Shengcode'] + [f'{col}_sum' for col in cols_to_sum]\n",
    "\n",
    "# 合并两个结果\n",
    "summary_df = pd.merge(count_df, sum_df, on='Shengcode')\n",
    "summary_df = pd.merge(df_shengcode, summary_df, on='Shengcode')\n",
    "\n",
    "summary_df.to_excel(r\"C:\\Users\\ruome\\Desktop\\New folder\\Renewable\\ProcessingFiles\\table\\敏感性统计表格\\province_solar_high_kw2.xlsx\")"
   ]
  }
 ],
 "metadata": {
  "kernelspec": {
   "display_name": "vscodeEnv",
   "language": "python",
   "name": "python3"
  },
  "language_info": {
   "codemirror_mode": {
    "name": "ipython",
    "version": 3
   },
   "file_extension": ".py",
   "mimetype": "text/x-python",
   "name": "python",
   "nbconvert_exporter": "python",
   "pygments_lexer": "ipython3",
   "version": "3.10.14"
  }
 },
 "nbformat": 4,
 "nbformat_minor": 2
}
